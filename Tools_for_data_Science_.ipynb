{
  "nbformat": 4,
  "nbformat_minor": 0,
  "metadata": {
    "colab": {
      "provenance": []
    },
    "kernelspec": {
      "name": "python3",
      "display_name": "Python 3"
    },
    "language_info": {
      "name": "python"
    }
  },
  "cells": [
    {
      "cell_type": "markdown",
      "source": [
        "Jupyter Notebook for Data Science"
      ],
      "metadata": {
        "id": "Je0t2iTg7d1f"
      }
    },
    {
      "cell_type": "markdown",
      "source": [
        "# Peer graded assigment on jupyter notebook"
      ],
      "metadata": {
        "id": "fsndatGk8j4d"
      }
    },
    {
      "cell_type": "markdown",
      "source": [
        "I am **Lavanya Ashokkumar**.I am a full stack developer.\n",
        "\n",
        "My curiosity has drawn me to data science, where I seek to unveil untold narratives concealed within the data, giving voice to the hidden stories that often go unnoticed."
      ],
      "metadata": {
        "id": "nhgrUdqm-Cvo"
      }
    },
    {
      "cell_type": "markdown",
      "source": [
        "**Data Science Languages**"
      ],
      "metadata": {
        "id": "VKcN9DdBArAW"
      }
    },
    {
      "cell_type": "markdown",
      "source": [
        "This course has enlightened us about the languages in data science:\n",
        "1. Python\n",
        "2. R\n",
        "3. SQL (Structured Query Language)\n",
        "4. Julia\n",
        "5. SAS (Statistical Analysis System)\n",
        "6. MATLAB\n",
        "7. Scala\n",
        "8. Java\n",
        "9. C++\n",
        "10. Ruby\n"
      ],
      "metadata": {
        "id": "_1TWRb8X_KZU"
      }
    },
    {
      "cell_type": "markdown",
      "source": [
        "**Data Science Libraries**"
      ],
      "metadata": {
        "id": "Uy_96KpzAxQt"
      }
    },
    {
      "cell_type": "markdown",
      "source": [
        "\n",
        "\n",
        "1.   Numpy\n",
        "2.   Panadas\n",
        "1.   Seaborn\n",
        "2.   Scikitlearn\n",
        "1.   Matplotlib\n",
        "2.   Pytorch\n",
        "1.   caret\n",
        "2.   ggplot\n",
        "1.   Stringr\n",
        "2.   drlyr\n",
        "\n",
        "\n",
        "\n",
        "\n",
        "\n",
        "\n",
        "\n"
      ],
      "metadata": {
        "id": "QQ67R3zpA5G7"
      }
    },
    {
      "cell_type": "markdown",
      "source": [
        "**Data Science Tools**"
      ],
      "metadata": {
        "id": "aVk496TrCrAP"
      }
    },
    {
      "cell_type": "markdown",
      "source": [
        "1.  Jupyter Notebook\n",
        "2.  R Studio\n",
        "1.  Visual Studio Code (VS Code)\n",
        "2.  IBM Watson Studio\n",
        "\n",
        "\n",
        "\n"
      ],
      "metadata": {
        "id": "4dK20sC6CuWS"
      }
    },
    {
      "cell_type": "markdown",
      "source": [
        "**Arithmetic example**\n",
        "\n",
        "Lets try to solve some arthmetic examples with python and R.\n",
        "Example: a=10,b=20 addition of a and b gives 30"
      ],
      "metadata": {
        "id": "sGbylyp-DVWb"
      }
    },
    {
      "cell_type": "code",
      "source": [
        "a=10\n",
        "b=20\n",
        "c=a+b\n",
        "print(c)"
      ],
      "metadata": {
        "colab": {
          "base_uri": "https://localhost:8080/"
        },
        "id": "o2lgaKC8-BO_",
        "outputId": "0090ab72-fb83-4772-82ae-6eb62a28fee8"
      },
      "execution_count": 4,
      "outputs": [
        {
          "output_type": "stream",
          "name": "stdout",
          "text": [
            "30\n"
          ]
        }
      ]
    },
    {
      "cell_type": "code",
      "source": [
        "a<-10\n",
        "b<-20\n",
        "c<-(a+b)\n",
        "print(c)"
      ],
      "metadata": {
        "colab": {
          "base_uri": "https://localhost:8080/"
        },
        "id": "oPR_tcbfEg2e",
        "outputId": "4b588c66-76b1-44ac-d606-89947591895e"
      },
      "execution_count": 5,
      "outputs": [
        {
          "output_type": "stream",
          "name": "stdout",
          "text": [
            "30\n"
          ]
        }
      ]
    },
    {
      "cell_type": "markdown",
      "source": [
        "**Multiplication and Addition**"
      ],
      "metadata": {
        "id": "LgvYLI7SE_9u"
      }
    },
    {
      "cell_type": "code",
      "source": [
        "a=10\n",
        "b=15\n",
        "c=-100\n",
        "result=a*b+c\n",
        "print(result)"
      ],
      "metadata": {
        "colab": {
          "base_uri": "https://localhost:8080/"
        },
        "id": "YASqUWZAEtvH",
        "outputId": "cd521989-0ed7-4f6e-e99b-8158b295ac9c"
      },
      "execution_count": 7,
      "outputs": [
        {
          "output_type": "stream",
          "name": "stdout",
          "text": [
            "50\n"
          ]
        }
      ]
    },
    {
      "cell_type": "code",
      "source": [
        "a<-10\n",
        "b<-15\n",
        "c<-(-100)\n",
        "result=a*b+c\n",
        "print(result)"
      ],
      "metadata": {
        "colab": {
          "base_uri": "https://localhost:8080/"
        },
        "id": "zPFyEgS3FPw6",
        "outputId": "89921e12-ed80-409f-afd5-a305c40f0dfe"
      },
      "execution_count": 8,
      "outputs": [
        {
          "output_type": "stream",
          "name": "stdout",
          "text": [
            "50\n"
          ]
        }
      ]
    },
    {
      "cell_type": "markdown",
      "source": [
        "**Hours to minutes**"
      ],
      "metadata": {
        "id": "lITOm3fDR7ha"
      }
    },
    {
      "cell_type": "code",
      "source": [
        "hours = 2\n",
        "minutes = hours * 60\n",
        "\n",
        "print(f\"{hours} hours is equal to {minutes} minutes.\")\n"
      ],
      "metadata": {
        "colab": {
          "base_uri": "https://localhost:8080/"
        },
        "id": "vXNKcPO-FYTi",
        "outputId": "d7b64a5f-ceb2-44c2-fe01-f571b9d2c1cf"
      },
      "execution_count": 9,
      "outputs": [
        {
          "output_type": "stream",
          "name": "stdout",
          "text": [
            "2 hours is equal to 120 minutes.\n"
          ]
        }
      ]
    },
    {
      "cell_type": "code",
      "source": [
        "hours <- 2\n",
        "minutes <- hours * 60\n",
        "\n",
        "print(f\"{hours} hours is equal to {minutes} minutes.\")\n"
      ],
      "metadata": {
        "colab": {
          "base_uri": "https://localhost:8080/"
        },
        "id": "2GHpbIb8R2QH",
        "outputId": "f41de815-c954-4ff8-fecf-ca7500dd9d0e"
      },
      "execution_count": 10,
      "outputs": [
        {
          "output_type": "stream",
          "name": "stdout",
          "text": [
            "2 hours is equal to 120 minutes.\n"
          ]
        }
      ]
    },
    {
      "cell_type": "markdown",
      "source": [
        "Unordered List"
      ],
      "metadata": {
        "id": "KgEmAxZYStAb"
      }
    },
    {
      "cell_type": "code",
      "source": [
        "unordered_list = [\"item1\", \"item2\", \"item3\", \"item4\"]\n",
        "\n",
        "for item in unordered_list:\n",
        "    print(item)\n"
      ],
      "metadata": {
        "colab": {
          "base_uri": "https://localhost:8080/"
        },
        "id": "sTPZTc9qR5ky",
        "outputId": "0e7ae63b-eca5-4255-8d70-a1314db35769"
      },
      "execution_count": 11,
      "outputs": [
        {
          "output_type": "stream",
          "name": "stdout",
          "text": [
            "item1\n",
            "item2\n",
            "item3\n",
            "item4\n"
          ]
        }
      ]
    },
    {
      "cell_type": "code",
      "source": [],
      "metadata": {
        "id": "qBCqO1oOSvSC"
      },
      "execution_count": null,
      "outputs": []
    }
  ]
}